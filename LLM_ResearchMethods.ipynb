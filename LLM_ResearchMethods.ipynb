{
  "nbformat": 4,
  "nbformat_minor": 0,
  "metadata": {
    "colab": {
      "provenance": [],
      "authorship_tag": "ABX9TyPYXT8icAlYons4hgIqIZlz",
      "include_colab_link": true
    },
    "kernelspec": {
      "name": "python3",
      "display_name": "Python 3"
    },
    "language_info": {
      "name": "python"
    }
  },
  "cells": [
    {
      "cell_type": "markdown",
      "metadata": {
        "id": "view-in-github",
        "colab_type": "text"
      },
      "source": [
        "<a href=\"https://colab.research.google.com/github/Harishchandu12/LLM_ResearchMethods/blob/main/LLM_ResearchMethods.ipynb\" target=\"_parent\"><img src=\"https://colab.research.google.com/assets/colab-badge.svg\" alt=\"Open In Colab\"/></a>"
      ]
    },
    {
      "cell_type": "code",
      "execution_count": 1,
      "metadata": {
        "colab": {
          "base_uri": "https://localhost:8080/"
        },
        "id": "bh_6hbh-L83V",
        "outputId": "791d3916-c4ef-47e6-e593-ad47d7def7c5"
      },
      "outputs": [
        {
          "output_type": "stream",
          "name": "stdout",
          "text": [
            "      Id  Clothing ID  Age                              Title  \\\n",
            "0  14746            0   26                                NaN   \n",
            "1  22742            1   50    Love this under-all cami tank ?   \n",
            "2  22743            1   36                       Staple tank!   \n",
            "3  22749            1   24        Love but also very annoying   \n",
            "4    876            2   28  Gorgeous top, straps way too long   \n",
            "\n",
            "                                         Review Text  Rating  Recommended IND  \\\n",
            "0                                                NaN       5                1   \n",
            "1  Originally i bought this in black and white. r...       5                1   \n",
            "2  Love this tank. material and fit are great. lo...       5                1   \n",
            "3  I love this tank, it is so comfortable but it ...       2                0   \n",
            "4  I just adore this top! it is so comfy and styl...       4                1   \n",
            "\n",
            "   Positive Feedback Count Division Name Department Name Class Name  \n",
            "0                        0       General         Jackets  Outerwear  \n",
            "1                        0     Initmates        Intimate   Layering  \n",
            "2                        0     Initmates        Intimate   Layering  \n",
            "3                        1     Initmates        Intimate   Layering  \n",
            "4                        0       General            Tops      Knits  \n"
          ]
        }
      ],
      "source": [
        "import pandas as pd\n",
        "# Defining path to the data via GitHub link and Reading into a dataframe\n",
        "Clothesdata = 'https://raw.githubusercontent.com/Harishchandu12/LLM_ResearchMethods/refs/heads/main/Womens%20Clothing%20E-Commerce%20Reviews.csv'\n",
        "Clothesdata_df = pd.read_csv(Clothesdata)\n",
        "# Showing the first 5 records of the dataset\n",
        "print(Clothesdata_df.head())"
      ]
    }
  ]
}